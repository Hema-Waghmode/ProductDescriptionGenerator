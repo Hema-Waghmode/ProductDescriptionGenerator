{
  "nbformat": 4,
  "nbformat_minor": 0,
  "metadata": {
    "colab": {
      "provenance": []
    },
    "kernelspec": {
      "name": "python3",
      "display_name": "Python 3"
    },
    "language_info": {
      "name": "python"
    }
  },
  "cells": [
    {
      "cell_type": "code",
      "source": [
        "from typing import Dict\n",
        "import openai\n",
        "import os\n",
        "!pip install openai textstat\n",
        "\n",
        "from textstat import flesch_reading_ease"
      ],
      "metadata": {
        "colab": {
          "base_uri": "https://localhost:8080/"
        },
        "id": "ibbwPtvwMgM_",
        "outputId": "76318d37-d4e5-43cc-a1ac-6b4741c5f6ad"
      },
      "execution_count": 20,
      "outputs": [
        {
          "output_type": "stream",
          "name": "stdout",
          "text": [
            "Requirement already satisfied: openai in /usr/local/lib/python3.11/dist-packages (1.84.0)\n",
            "Requirement already satisfied: textstat in /usr/local/lib/python3.11/dist-packages (0.7.7)\n",
            "Requirement already satisfied: anyio<5,>=3.5.0 in /usr/local/lib/python3.11/dist-packages (from openai) (4.9.0)\n",
            "Requirement already satisfied: distro<2,>=1.7.0 in /usr/local/lib/python3.11/dist-packages (from openai) (1.9.0)\n",
            "Requirement already satisfied: httpx<1,>=0.23.0 in /usr/local/lib/python3.11/dist-packages (from openai) (0.28.1)\n",
            "Requirement already satisfied: jiter<1,>=0.4.0 in /usr/local/lib/python3.11/dist-packages (from openai) (0.10.0)\n",
            "Requirement already satisfied: pydantic<3,>=1.9.0 in /usr/local/lib/python3.11/dist-packages (from openai) (2.11.5)\n",
            "Requirement already satisfied: sniffio in /usr/local/lib/python3.11/dist-packages (from openai) (1.3.1)\n",
            "Requirement already satisfied: tqdm>4 in /usr/local/lib/python3.11/dist-packages (from openai) (4.67.1)\n",
            "Requirement already satisfied: typing-extensions<5,>=4.11 in /usr/local/lib/python3.11/dist-packages (from openai) (4.14.0)\n",
            "Requirement already satisfied: pyphen in /usr/local/lib/python3.11/dist-packages (from textstat) (0.17.2)\n",
            "Requirement already satisfied: cmudict in /usr/local/lib/python3.11/dist-packages (from textstat) (1.0.32)\n",
            "Requirement already satisfied: setuptools in /usr/local/lib/python3.11/dist-packages (from textstat) (75.2.0)\n",
            "Requirement already satisfied: idna>=2.8 in /usr/local/lib/python3.11/dist-packages (from anyio<5,>=3.5.0->openai) (3.10)\n",
            "Requirement already satisfied: certifi in /usr/local/lib/python3.11/dist-packages (from httpx<1,>=0.23.0->openai) (2025.4.26)\n",
            "Requirement already satisfied: httpcore==1.* in /usr/local/lib/python3.11/dist-packages (from httpx<1,>=0.23.0->openai) (1.0.9)\n",
            "Requirement already satisfied: h11>=0.16 in /usr/local/lib/python3.11/dist-packages (from httpcore==1.*->httpx<1,>=0.23.0->openai) (0.16.0)\n",
            "Requirement already satisfied: annotated-types>=0.6.0 in /usr/local/lib/python3.11/dist-packages (from pydantic<3,>=1.9.0->openai) (0.7.0)\n",
            "Requirement already satisfied: pydantic-core==2.33.2 in /usr/local/lib/python3.11/dist-packages (from pydantic<3,>=1.9.0->openai) (2.33.2)\n",
            "Requirement already satisfied: typing-inspection>=0.4.0 in /usr/local/lib/python3.11/dist-packages (from pydantic<3,>=1.9.0->openai) (0.4.1)\n",
            "Requirement already satisfied: importlib-metadata>=5 in /usr/local/lib/python3.11/dist-packages (from cmudict->textstat) (8.7.0)\n",
            "Requirement already satisfied: importlib-resources>=5 in /usr/local/lib/python3.11/dist-packages (from cmudict->textstat) (6.5.2)\n",
            "Requirement already satisfied: zipp>=3.20 in /usr/local/lib/python3.11/dist-packages (from importlib-metadata>=5->cmudict->textstat) (3.22.0)\n"
          ]
        }
      ]
    },
    {
      "cell_type": "code",
      "source": [
        "#  OpenAI API key from environment variable\n",
        "OPENAI_API_KEY=\"generatedAPIkey\"\n",
        "openai.api_key = os.getenv(\"OPENAI_API_KEY\")\n",
        "\n",
        "# Sample category-specific prompt templates\n",
        "CATEGORY_PROMPTS = {\n",
        "    \"fashion\": \"Write a stylish and engaging product description for a {category}. Include material, color, style, usage occasions, and any unique features. Keep the tone elegant and modern.\",\n",
        "    \"electronics\": \"Create a professional product description for a {category}. Emphasize specs, performance, compatibility, and user benefits. Tone should be informative and persuasive.\",\n",
        "    \"home\": \"Write a clear and attractive description for a {category}. Highlight material, durability, size, benefits for cooking, and ease of cleaning. Tone should be friendly and helpful.\",\n",
        "    \"books\": \"Write a compelling summary for a book titled '{title}' by {author}. Mention the genre, theme, and ideal reader. Tone should be enthusiastic and informative.\"\n",
        "}\n"
      ],
      "metadata": {
        "id": "hZ9krVQlMos8"
      },
      "execution_count": 21,
      "outputs": []
    },
    {
      "cell_type": "code",
      "source": [
        "# Generic fallback prompt\n",
        "GENERIC_PROMPT = \"Write a short and engaging product description for a product in the {category} category. Highlight key features and ideal usage.\"\n",
        "\n",
        "# Sanitize and enrich input\n",
        "DEFAULTS = {\n",
        "    \"brand\": \"a trusted brand\",\n",
        "    \"features\": \"great value and performance\",\n",
        "    \"color\": \"various colors\",\n",
        "    \"size\": \"standard size\"\n",
        "}"
      ],
      "metadata": {
        "id": "LoJDWTwfR7qN"
      },
      "execution_count": 22,
      "outputs": []
    },
    {
      "cell_type": "code",
      "source": [
        "def sanitize_input(data: Dict) -> Dict:\n",
        "    required = ['name', 'category']\n",
        "    for key in required:\n",
        "        if key not in data:\n",
        "            raise ValueError(f\"Missing required field: {key}\")\n",
        "    for key, default in DEFAULTS.items():\n",
        "        data.setdefault(key, default)\n",
        "    return data"
      ],
      "metadata": {
        "id": "DBZitOxPSJ7K"
      },
      "execution_count": 23,
      "outputs": []
    },
    {
      "cell_type": "code",
      "source": [
        "# Prompt generator\n",
        "\n",
        "def generate_prompt(data: Dict) -> str:\n",
        "    category = data.get(\"category\", \"general\").lower()\n",
        "    if category in CATEGORY_PROMPTS:\n",
        "        prompt_template = CATEGORY_PROMPTS[category]\n",
        "    else:\n",
        "        prompt_template = GENERIC_PROMPT\n",
        "    return prompt_template.format(**data)\n",
        "\n"
      ],
      "metadata": {
        "id": "LYQhog4uSS4A"
      },
      "execution_count": 24,
      "outputs": []
    },
    {
      "cell_type": "code",
      "source": [
        "# OpenAI LLM call\n",
        "# model=\"gpt-4\",\n",
        "def call_openai_llm(prompt: str) -> str:\n",
        "    response = openai.ChatCompletion.create(\n",
        "        model=\"gpt-1.0.0\",\n",
        "        messages=[\n",
        "            {\"role\": \"system\", \"content\": \"You are a helpful assistant that writes high-quality e-commerce product descriptions.\"},\n",
        "            {\"role\": \"user\", \"content\": prompt}\n",
        "        ],\n",
        "        max_tokens=150,\n",
        "        temperature=0.7\n",
        "    )\n",
        "    return response['choices'][0]['message']['content'].strip()\n",
        "\n"
      ],
      "metadata": {
        "id": "gYUTtVpySeYx"
      },
      "execution_count": 25,
      "outputs": []
    },
    {
      "cell_type": "code",
      "source": [
        "# Output evaluator\n",
        "def evaluate_description(text: str) -> Dict:\n",
        "    length = len(text.split())\n",
        "    return {\n",
        "        \"readability_score\": flesch_reading_ease(text),\n",
        "        \"word_count\": length,\n",
        "        \"within_length_range\": 60 <= length <= 120\n",
        "    }\n",
        "\n"
      ],
      "metadata": {
        "id": "uhJriMJ6SzHB"
      },
      "execution_count": 26,
      "outputs": []
    },
    {
      "cell_type": "code",
      "source": [
        "# Example run\n",
        "def generate_product_description(data: Dict) -> Dict:\n",
        "    data = sanitize_input(data)\n",
        "    prompt = generate_prompt(data)\n",
        "    output = call_openai_llm(prompt)\n",
        "    evaluation = evaluate_description(output)\n",
        "    return {\n",
        "        \"prompt\": prompt,\n",
        "        \"description\": output,\n",
        "        \"evaluation\": evaluation\n",
        "    }\n",
        "\n"
      ],
      "metadata": {
        "id": "5eDWiaWoS4ze"
      },
      "execution_count": 27,
      "outputs": []
    },
    {
      "cell_type": "code",
      "source": [
        "# Example usage\n",
        "if __name__ == \"__main__\":\n",
        "    sample_data = {\n",
        "        \"name\": \"Stylish Leather Bag\",\n",
        "        \"category\": \"fashion\",\n",
        "        \"material\": \"genuine leather\",\n",
        "        \"color\": \"black\",\n",
        "        \"style\": \"tote\",\n",
        "        \"features\": \"gold zipper, inner pockets\",\n",
        "        \"usage\": \"office, casual outings\"\n",
        "    }\n",
        "    result = generate_product_description(sample_data)\n",
        "    print(\"Prompt:\\n\", result[\"prompt\"])\n",
        "    print(\"\\nGenerated Description:\\n\", result[\"description\"])\n",
        "    print(\"\\nEvaluation:\\n\", result[\"evaluation\"])\n"
      ],
      "metadata": {
        "id": "u37lwDwIy079"
      },
      "execution_count": null,
      "outputs": []
    },
    {
      "cell_type": "code",
      "source": [],
      "metadata": {
        "id": "PhTfMjB5S-f6"
      },
      "execution_count": null,
      "outputs": []
    }
  ]
}
